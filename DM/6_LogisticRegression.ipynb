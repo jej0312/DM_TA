{
  "cells": [
    {
      "cell_type": "markdown",
      "metadata": {
        "id": "view-in-github",
        "colab_type": "text"
      },
      "source": [
        "<a href=\"https://colab.research.google.com/github/jej0312/DM_TA/blob/main/6_LogisticRegression.ipynb\" target=\"_parent\"><img src=\"https://colab.research.google.com/assets/colab-badge.svg\" alt=\"Open In Colab\"/></a>"
      ]
    },
    {
      "cell_type": "markdown",
      "metadata": {
        "id": "XGMRuPw4Z1X4"
      },
      "source": [
        "# Logistic Regression (로지스틱 회귀)\n",
        "- TA: 전은지 (Eunji Jeon)  \n",
        "- Dept. of Industrial Engineering, Yonsei Univ (Industrial Statistics Lab; ISL 산업통계연구실)\n",
        "- 문의: `jej_0312_@naver.com`"
      ]
    },
    {
      "cell_type": "markdown",
      "source": [
        "- 로지스틱 회귀는 다음과 같은 상황에서 사용할 수 있음\n",
        "  1. binary target을 모델링하는 경우\n",
        "  2. 예측 확률을 알고 싶은 경우\n",
        "  3. **해석 가능한 모델**을 얻고자 하는 경우\n",
        "  4. 클래스를 선형으로 분리 가능한 경우"
      ],
      "metadata": {
        "id": "vDPnwyjhRaP4"
      }
    },
    {
      "cell_type": "markdown",
      "source": [
        "## Assumptions\n",
        "1. 관측치들 간 독립성: 데이터의 샘플들은 랜덤하게 얻어져야 함. (반복적 측정 X, 시간 및 공간에 따른 상관관계 X)\n",
        "  - 본 실습에서 활용하는 타이타닉 데이터의 경우 개별 승객 기록으로 구성되므로 자동 충족\n",
        "2. 잔차 간 등분산성\n",
        "3. 독립 변수와 log odds 간의 linearity (R에서는 car package에 [Box-Tidwell](https://towardsdatascience.com/assumptions-of-logistic-regression-clearly-explained-44d85a22b290) 수행하는 라이브러리 제공)\n",
        "4. 이상치가 존재하지 않아야 함\n",
        "- 추가적으로, 적당한 수의 샘플이 존재해야 함.\n",
        "- 또한, independent variables가 너무 많을 경우 일반화 성능이 감소할 수 있음.\n",
        "- 확인하는 방법에 대한 자세한 설명 [참고](https://towardsdatascience.com/assumptions-of-logistic-regression-clearly-explained-44d85a22b290)"
      ],
      "metadata": {
        "id": "uKHR4fNMNQoC"
      }
    },
    {
      "cell_type": "markdown",
      "source": [
        "- 다중 로지스틱 회귀모형의 일반적 형태\n",
        "  - $\\log(\\frac{π(x)}{1-π(x)})=α+β_1x_1+\\cdots+\\beta_kx_k$\n",
        "  - where $π(x)=P(Y=1|x), x=(x_1, \\cdots, x_k)$\n",
        "  - $π(x)$는 다음과 같이 재표현할 수 있음\n",
        "    - $π(x)=\\frac{exp(α+β_1x_1+\\cdots+\\beta_kx_k)}{1+exp(\\alpha+\\beta_1x_1+\\cdots+\\beta_kx_k)}=\\frac{1}{1+exp\\{-(\\alpha+\\beta_1x_1+\\cdots+\\beta_kx_k)\\}}$\n",
        "    - 따라서 sigmoid ($s(z)=\\frac{1}{1+e^{-z}}$)와 동일한 형태 (더 자세한 설명 [참고](https://icim.nims.re.kr/post/easyMath/64))\n",
        "\n",
        "\n",
        "> ## Sigmoid (Logit) Function\n",
        "- predicted response variable은 0과 1 사이의 확률 값\n",
        "  - 이 때 sigmoid function을 사용하면 실수 값을 0과 1 사이의 확률 값으로 표현됨"
      ],
      "metadata": {
        "id": "X1E9h7WbNvgn"
      }
    },
    {
      "cell_type": "markdown",
      "source": [
        "![image.png](data:image/png;base64,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)"
      ],
      "metadata": {
        "id": "JYmqjtmUNTQK"
      }
    },
    {
      "cell_type": "markdown",
      "source": [
        "- sigmoid function을 통해 0과 1의 함수로 나타내기 위해 Decision Boundary (threshold)를 설정해줌\n",
        "  - 해당 threshold를 넘을 경우 class 1, 그렇지 않은 경우 class 0으로 분류\n",
        "- 예를 들어, threshold를 0.5로 설정하는 경우\n",
        "  - if p ≥ 0.5, then class = 1\n",
        "  - if p < 0.5, then class = 0"
      ],
      "metadata": {
        "id": "Y4frktnXNXQT"
      }
    },
    {
      "cell_type": "markdown",
      "metadata": {
        "id": "e-kAmeziZ1X8"
      },
      "source": [
        "# Step 1. Data Preprocessing"
      ]
    },
    {
      "cell_type": "markdown",
      "source": [
        "- dataset: [titanic dataset](https://www.kaggle.com/c/titanic/data) from kaggle"
      ],
      "metadata": {
        "id": "KA1x13ovfIoz"
      }
    },
    {
      "cell_type": "code",
      "execution_count": null,
      "metadata": {
        "id": "qR90VVSPZ1X9"
      },
      "outputs": [],
      "source": [
        "import pandas as pd\n",
        "passengers = pd.read_csv(\"https://raw.githubusercontent.com/jej0312/DM_TA/main/data/titanic_passengers.csv\")"
      ]
    },
    {
      "cell_type": "code",
      "execution_count": null,
      "metadata": {
        "id": "zhO7Xu-cZ1X_",
        "outputId": "edc0dd55-f75e-461e-db1f-445e8040e61d",
        "colab": {
          "base_uri": "https://localhost:8080/"
        }
      },
      "outputs": [
        {
          "output_type": "execute_result",
          "data": {
            "text/plain": [
              "(891, 12)"
            ]
          },
          "metadata": {},
          "execution_count": 2
        }
      ],
      "source": [
        "passengers.shape # (행, 열)"
      ]
    },
    {
      "cell_type": "code",
      "execution_count": null,
      "metadata": {
        "scrolled": true,
        "id": "TDUwHrVuZ1YA",
        "outputId": "5e09473f-8d38-47f4-d1da-f9b931fd648d",
        "colab": {
          "base_uri": "https://localhost:8080/",
          "height": 206
        }
      },
      "outputs": [
        {
          "output_type": "execute_result",
          "data": {
            "text/plain": [
              "   PassengerId  Survived  Pclass  \\\n",
              "0            1         0       3   \n",
              "1            2         1       1   \n",
              "2            3         1       3   \n",
              "3            4         1       1   \n",
              "4            5         0       3   \n",
              "\n",
              "                                                Name     Sex   Age  SibSp  \\\n",
              "0                            Braund, Mr. Owen Harris    male  22.0      1   \n",
              "1  Cumings, Mrs. John Bradley (Florence Briggs Th...  female  38.0      1   \n",
              "2                             Heikkinen, Miss. Laina  female  26.0      0   \n",
              "3       Futrelle, Mrs. Jacques Heath (Lily May Peel)  female  35.0      1   \n",
              "4                           Allen, Mr. William Henry    male  35.0      0   \n",
              "\n",
              "   Parch            Ticket     Fare Cabin Embarked  \n",
              "0      0         A/5 21171   7.2500   NaN        S  \n",
              "1      0          PC 17599  71.2833   C85        C  \n",
              "2      0  STON/O2. 3101282   7.9250   NaN        S  \n",
              "3      0            113803  53.1000  C123        S  \n",
              "4      0            373450   8.0500   NaN        S  "
            ],
            "text/html": [
              "\n",
              "  <div id=\"df-87d31fd9-afbf-4273-a425-bdf029b65588\">\n",
              "    <div class=\"colab-df-container\">\n",
              "      <div>\n",
              "<style scoped>\n",
              "    .dataframe tbody tr th:only-of-type {\n",
              "        vertical-align: middle;\n",
              "    }\n",
              "\n",
              "    .dataframe tbody tr th {\n",
              "        vertical-align: top;\n",
              "    }\n",
              "\n",
              "    .dataframe thead th {\n",
              "        text-align: right;\n",
              "    }\n",
              "</style>\n",
              "<table border=\"1\" class=\"dataframe\">\n",
              "  <thead>\n",
              "    <tr style=\"text-align: right;\">\n",
              "      <th></th>\n",
              "      <th>PassengerId</th>\n",
              "      <th>Survived</th>\n",
              "      <th>Pclass</th>\n",
              "      <th>Name</th>\n",
              "      <th>Sex</th>\n",
              "      <th>Age</th>\n",
              "      <th>SibSp</th>\n",
              "      <th>Parch</th>\n",
              "      <th>Ticket</th>\n",
              "      <th>Fare</th>\n",
              "      <th>Cabin</th>\n",
              "      <th>Embarked</th>\n",
              "    </tr>\n",
              "  </thead>\n",
              "  <tbody>\n",
              "    <tr>\n",
              "      <th>0</th>\n",
              "      <td>1</td>\n",
              "      <td>0</td>\n",
              "      <td>3</td>\n",
              "      <td>Braund, Mr. Owen Harris</td>\n",
              "      <td>male</td>\n",
              "      <td>22.0</td>\n",
              "      <td>1</td>\n",
              "      <td>0</td>\n",
              "      <td>A/5 21171</td>\n",
              "      <td>7.2500</td>\n",
              "      <td>NaN</td>\n",
              "      <td>S</td>\n",
              "    </tr>\n",
              "    <tr>\n",
              "      <th>1</th>\n",
              "      <td>2</td>\n",
              "      <td>1</td>\n",
              "      <td>1</td>\n",
              "      <td>Cumings, Mrs. John Bradley (Florence Briggs Th...</td>\n",
              "      <td>female</td>\n",
              "      <td>38.0</td>\n",
              "      <td>1</td>\n",
              "      <td>0</td>\n",
              "      <td>PC 17599</td>\n",
              "      <td>71.2833</td>\n",
              "      <td>C85</td>\n",
              "      <td>C</td>\n",
              "    </tr>\n",
              "    <tr>\n",
              "      <th>2</th>\n",
              "      <td>3</td>\n",
              "      <td>1</td>\n",
              "      <td>3</td>\n",
              "      <td>Heikkinen, Miss. Laina</td>\n",
              "      <td>female</td>\n",
              "      <td>26.0</td>\n",
              "      <td>0</td>\n",
              "      <td>0</td>\n",
              "      <td>STON/O2. 3101282</td>\n",
              "      <td>7.9250</td>\n",
              "      <td>NaN</td>\n",
              "      <td>S</td>\n",
              "    </tr>\n",
              "    <tr>\n",
              "      <th>3</th>\n",
              "      <td>4</td>\n",
              "      <td>1</td>\n",
              "      <td>1</td>\n",
              "      <td>Futrelle, Mrs. Jacques Heath (Lily May Peel)</td>\n",
              "      <td>female</td>\n",
              "      <td>35.0</td>\n",
              "      <td>1</td>\n",
              "      <td>0</td>\n",
              "      <td>113803</td>\n",
              "      <td>53.1000</td>\n",
              "      <td>C123</td>\n",
              "      <td>S</td>\n",
              "    </tr>\n",
              "    <tr>\n",
              "      <th>4</th>\n",
              "      <td>5</td>\n",
              "      <td>0</td>\n",
              "      <td>3</td>\n",
              "      <td>Allen, Mr. William Henry</td>\n",
              "      <td>male</td>\n",
              "      <td>35.0</td>\n",
              "      <td>0</td>\n",
              "      <td>0</td>\n",
              "      <td>373450</td>\n",
              "      <td>8.0500</td>\n",
              "      <td>NaN</td>\n",
              "      <td>S</td>\n",
              "    </tr>\n",
              "  </tbody>\n",
              "</table>\n",
              "</div>\n",
              "      <button class=\"colab-df-convert\" onclick=\"convertToInteractive('df-87d31fd9-afbf-4273-a425-bdf029b65588')\"\n",
              "              title=\"Convert this dataframe to an interactive table.\"\n",
              "              style=\"display:none;\">\n",
              "        \n",
              "  <svg xmlns=\"http://www.w3.org/2000/svg\" height=\"24px\"viewBox=\"0 0 24 24\"\n",
              "       width=\"24px\">\n",
              "    <path d=\"M0 0h24v24H0V0z\" fill=\"none\"/>\n",
              "    <path d=\"M18.56 5.44l.94 2.06.94-2.06 2.06-.94-2.06-.94-.94-2.06-.94 2.06-2.06.94zm-11 1L8.5 8.5l.94-2.06 2.06-.94-2.06-.94L8.5 2.5l-.94 2.06-2.06.94zm10 10l.94 2.06.94-2.06 2.06-.94-2.06-.94-.94-2.06-.94 2.06-2.06.94z\"/><path d=\"M17.41 7.96l-1.37-1.37c-.4-.4-.92-.59-1.43-.59-.52 0-1.04.2-1.43.59L10.3 9.45l-7.72 7.72c-.78.78-.78 2.05 0 2.83L4 21.41c.39.39.9.59 1.41.59.51 0 1.02-.2 1.41-.59l7.78-7.78 2.81-2.81c.8-.78.8-2.07 0-2.86zM5.41 20L4 18.59l7.72-7.72 1.47 1.35L5.41 20z\"/>\n",
              "  </svg>\n",
              "      </button>\n",
              "      \n",
              "  <style>\n",
              "    .colab-df-container {\n",
              "      display:flex;\n",
              "      flex-wrap:wrap;\n",
              "      gap: 12px;\n",
              "    }\n",
              "\n",
              "    .colab-df-convert {\n",
              "      background-color: #E8F0FE;\n",
              "      border: none;\n",
              "      border-radius: 50%;\n",
              "      cursor: pointer;\n",
              "      display: none;\n",
              "      fill: #1967D2;\n",
              "      height: 32px;\n",
              "      padding: 0 0 0 0;\n",
              "      width: 32px;\n",
              "    }\n",
              "\n",
              "    .colab-df-convert:hover {\n",
              "      background-color: #E2EBFA;\n",
              "      box-shadow: 0px 1px 2px rgba(60, 64, 67, 0.3), 0px 1px 3px 1px rgba(60, 64, 67, 0.15);\n",
              "      fill: #174EA6;\n",
              "    }\n",
              "\n",
              "    [theme=dark] .colab-df-convert {\n",
              "      background-color: #3B4455;\n",
              "      fill: #D2E3FC;\n",
              "    }\n",
              "\n",
              "    [theme=dark] .colab-df-convert:hover {\n",
              "      background-color: #434B5C;\n",
              "      box-shadow: 0px 1px 3px 1px rgba(0, 0, 0, 0.15);\n",
              "      filter: drop-shadow(0px 1px 2px rgba(0, 0, 0, 0.3));\n",
              "      fill: #FFFFFF;\n",
              "    }\n",
              "  </style>\n",
              "\n",
              "      <script>\n",
              "        const buttonEl =\n",
              "          document.querySelector('#df-87d31fd9-afbf-4273-a425-bdf029b65588 button.colab-df-convert');\n",
              "        buttonEl.style.display =\n",
              "          google.colab.kernel.accessAllowed ? 'block' : 'none';\n",
              "\n",
              "        async function convertToInteractive(key) {\n",
              "          const element = document.querySelector('#df-87d31fd9-afbf-4273-a425-bdf029b65588');\n",
              "          const dataTable =\n",
              "            await google.colab.kernel.invokeFunction('convertToInteractive',\n",
              "                                                     [key], {});\n",
              "          if (!dataTable) return;\n",
              "\n",
              "          const docLinkHtml = 'Like what you see? Visit the ' +\n",
              "            '<a target=\"_blank\" href=https://colab.research.google.com/notebooks/data_table.ipynb>data table notebook</a>'\n",
              "            + ' to learn more about interactive tables.';\n",
              "          element.innerHTML = '';\n",
              "          dataTable['output_type'] = 'display_data';\n",
              "          await google.colab.output.renderOutput(dataTable, element);\n",
              "          const docLink = document.createElement('div');\n",
              "          docLink.innerHTML = docLinkHtml;\n",
              "          element.appendChild(docLink);\n",
              "        }\n",
              "      </script>\n",
              "    </div>\n",
              "  </div>\n",
              "  "
            ]
          },
          "metadata": {},
          "execution_count": 3
        }
      ],
      "source": [
        "passengers.head()"
      ]
    },
    {
      "cell_type": "code",
      "execution_count": null,
      "metadata": {
        "scrolled": true,
        "id": "BC2zb6ruZ1YB",
        "outputId": "04545eab-f0f7-4c1c-e0de-4ffa6421b7ff",
        "colab": {
          "base_uri": "https://localhost:8080/"
        }
      },
      "outputs": [
        {
          "output_type": "execute_result",
          "data": {
            "text/plain": [
              "PassengerId      0\n",
              "Survived         0\n",
              "Pclass           0\n",
              "Name             0\n",
              "Sex              0\n",
              "Age            177\n",
              "SibSp            0\n",
              "Parch            0\n",
              "Ticket           0\n",
              "Fare             0\n",
              "Cabin          687\n",
              "Embarked         2\n",
              "dtype: int64"
            ]
          },
          "metadata": {},
          "execution_count": 4
        }
      ],
      "source": [
        "passengers.isnull().sum() # 결측치: (Age 177명, Cabin 687명, Embarked 2명)"
      ]
    },
    {
      "cell_type": "markdown",
      "source": [
        "- 불필요한 컬럼 제거\n",
        "  - 'Cabin': 891명 중 687명(77.1%)이 결측치이므로, 해당 열 제거\n",
        "  - 'Ticket', 'Passengerid': 큰 의미가 없으므로, 해당 열 제거\n",
        "  - 본 실습에서는 편의상 'SibSp' (동반한 형제자매, 배우자수)와 'Parch'(동반한 부모, 자식 수)도 제거\n"
      ],
      "metadata": {
        "id": "9vw5WaaSK8GC"
      }
    },
    {
      "cell_type": "code",
      "execution_count": null,
      "metadata": {
        "scrolled": true,
        "id": "BAixvJgrZ1YE"
      },
      "outputs": [],
      "source": [
        "passengers.drop(['Cabin', 'Ticket', 'PassengerId'], axis = 1, inplace = True)"
      ]
    },
    {
      "cell_type": "code",
      "execution_count": null,
      "metadata": {
        "id": "PWwU5oxKZ1YE"
      },
      "outputs": [],
      "source": [
        "passengers.drop(['SibSp', 'Parch'], axis = 1, inplace = True)"
      ]
    },
    {
      "cell_type": "code",
      "execution_count": null,
      "metadata": {
        "id": "t0ZXDOGSZ1YF",
        "outputId": "a234c9ba-8504-47fc-d53a-744916c6c7c6",
        "colab": {
          "base_uri": "https://localhost:8080/",
          "height": 206
        }
      },
      "outputs": [
        {
          "output_type": "execute_result",
          "data": {
            "text/plain": [
              "   Survived  Pclass                                               Name  \\\n",
              "0         0       3                            Braund, Mr. Owen Harris   \n",
              "1         1       1  Cumings, Mrs. John Bradley (Florence Briggs Th...   \n",
              "2         1       3                             Heikkinen, Miss. Laina   \n",
              "3         1       1       Futrelle, Mrs. Jacques Heath (Lily May Peel)   \n",
              "4         0       3                           Allen, Mr. William Henry   \n",
              "\n",
              "      Sex   Age     Fare Embarked  \n",
              "0    male  22.0   7.2500        S  \n",
              "1  female  38.0  71.2833        C  \n",
              "2  female  26.0   7.9250        S  \n",
              "3  female  35.0  53.1000        S  \n",
              "4    male  35.0   8.0500        S  "
            ],
            "text/html": [
              "\n",
              "  <div id=\"df-bc81a011-1657-4a18-bffe-bd69aee9ce23\">\n",
              "    <div class=\"colab-df-container\">\n",
              "      <div>\n",
              "<style scoped>\n",
              "    .dataframe tbody tr th:only-of-type {\n",
              "        vertical-align: middle;\n",
              "    }\n",
              "\n",
              "    .dataframe tbody tr th {\n",
              "        vertical-align: top;\n",
              "    }\n",
              "\n",
              "    .dataframe thead th {\n",
              "        text-align: right;\n",
              "    }\n",
              "</style>\n",
              "<table border=\"1\" class=\"dataframe\">\n",
              "  <thead>\n",
              "    <tr style=\"text-align: right;\">\n",
              "      <th></th>\n",
              "      <th>Survived</th>\n",
              "      <th>Pclass</th>\n",
              "      <th>Name</th>\n",
              "      <th>Sex</th>\n",
              "      <th>Age</th>\n",
              "      <th>Fare</th>\n",
              "      <th>Embarked</th>\n",
              "    </tr>\n",
              "  </thead>\n",
              "  <tbody>\n",
              "    <tr>\n",
              "      <th>0</th>\n",
              "      <td>0</td>\n",
              "      <td>3</td>\n",
              "      <td>Braund, Mr. Owen Harris</td>\n",
              "      <td>male</td>\n",
              "      <td>22.0</td>\n",
              "      <td>7.2500</td>\n",
              "      <td>S</td>\n",
              "    </tr>\n",
              "    <tr>\n",
              "      <th>1</th>\n",
              "      <td>1</td>\n",
              "      <td>1</td>\n",
              "      <td>Cumings, Mrs. John Bradley (Florence Briggs Th...</td>\n",
              "      <td>female</td>\n",
              "      <td>38.0</td>\n",
              "      <td>71.2833</td>\n",
              "      <td>C</td>\n",
              "    </tr>\n",
              "    <tr>\n",
              "      <th>2</th>\n",
              "      <td>1</td>\n",
              "      <td>3</td>\n",
              "      <td>Heikkinen, Miss. Laina</td>\n",
              "      <td>female</td>\n",
              "      <td>26.0</td>\n",
              "      <td>7.9250</td>\n",
              "      <td>S</td>\n",
              "    </tr>\n",
              "    <tr>\n",
              "      <th>3</th>\n",
              "      <td>1</td>\n",
              "      <td>1</td>\n",
              "      <td>Futrelle, Mrs. Jacques Heath (Lily May Peel)</td>\n",
              "      <td>female</td>\n",
              "      <td>35.0</td>\n",
              "      <td>53.1000</td>\n",
              "      <td>S</td>\n",
              "    </tr>\n",
              "    <tr>\n",
              "      <th>4</th>\n",
              "      <td>0</td>\n",
              "      <td>3</td>\n",
              "      <td>Allen, Mr. William Henry</td>\n",
              "      <td>male</td>\n",
              "      <td>35.0</td>\n",
              "      <td>8.0500</td>\n",
              "      <td>S</td>\n",
              "    </tr>\n",
              "  </tbody>\n",
              "</table>\n",
              "</div>\n",
              "      <button class=\"colab-df-convert\" onclick=\"convertToInteractive('df-bc81a011-1657-4a18-bffe-bd69aee9ce23')\"\n",
              "              title=\"Convert this dataframe to an interactive table.\"\n",
              "              style=\"display:none;\">\n",
              "        \n",
              "  <svg xmlns=\"http://www.w3.org/2000/svg\" height=\"24px\"viewBox=\"0 0 24 24\"\n",
              "       width=\"24px\">\n",
              "    <path d=\"M0 0h24v24H0V0z\" fill=\"none\"/>\n",
              "    <path d=\"M18.56 5.44l.94 2.06.94-2.06 2.06-.94-2.06-.94-.94-2.06-.94 2.06-2.06.94zm-11 1L8.5 8.5l.94-2.06 2.06-.94-2.06-.94L8.5 2.5l-.94 2.06-2.06.94zm10 10l.94 2.06.94-2.06 2.06-.94-2.06-.94-.94-2.06-.94 2.06-2.06.94z\"/><path d=\"M17.41 7.96l-1.37-1.37c-.4-.4-.92-.59-1.43-.59-.52 0-1.04.2-1.43.59L10.3 9.45l-7.72 7.72c-.78.78-.78 2.05 0 2.83L4 21.41c.39.39.9.59 1.41.59.51 0 1.02-.2 1.41-.59l7.78-7.78 2.81-2.81c.8-.78.8-2.07 0-2.86zM5.41 20L4 18.59l7.72-7.72 1.47 1.35L5.41 20z\"/>\n",
              "  </svg>\n",
              "      </button>\n",
              "      \n",
              "  <style>\n",
              "    .colab-df-container {\n",
              "      display:flex;\n",
              "      flex-wrap:wrap;\n",
              "      gap: 12px;\n",
              "    }\n",
              "\n",
              "    .colab-df-convert {\n",
              "      background-color: #E8F0FE;\n",
              "      border: none;\n",
              "      border-radius: 50%;\n",
              "      cursor: pointer;\n",
              "      display: none;\n",
              "      fill: #1967D2;\n",
              "      height: 32px;\n",
              "      padding: 0 0 0 0;\n",
              "      width: 32px;\n",
              "    }\n",
              "\n",
              "    .colab-df-convert:hover {\n",
              "      background-color: #E2EBFA;\n",
              "      box-shadow: 0px 1px 2px rgba(60, 64, 67, 0.3), 0px 1px 3px 1px rgba(60, 64, 67, 0.15);\n",
              "      fill: #174EA6;\n",
              "    }\n",
              "\n",
              "    [theme=dark] .colab-df-convert {\n",
              "      background-color: #3B4455;\n",
              "      fill: #D2E3FC;\n",
              "    }\n",
              "\n",
              "    [theme=dark] .colab-df-convert:hover {\n",
              "      background-color: #434B5C;\n",
              "      box-shadow: 0px 1px 3px 1px rgba(0, 0, 0, 0.15);\n",
              "      filter: drop-shadow(0px 1px 2px rgba(0, 0, 0, 0.3));\n",
              "      fill: #FFFFFF;\n",
              "    }\n",
              "  </style>\n",
              "\n",
              "      <script>\n",
              "        const buttonEl =\n",
              "          document.querySelector('#df-bc81a011-1657-4a18-bffe-bd69aee9ce23 button.colab-df-convert');\n",
              "        buttonEl.style.display =\n",
              "          google.colab.kernel.accessAllowed ? 'block' : 'none';\n",
              "\n",
              "        async function convertToInteractive(key) {\n",
              "          const element = document.querySelector('#df-bc81a011-1657-4a18-bffe-bd69aee9ce23');\n",
              "          const dataTable =\n",
              "            await google.colab.kernel.invokeFunction('convertToInteractive',\n",
              "                                                     [key], {});\n",
              "          if (!dataTable) return;\n",
              "\n",
              "          const docLinkHtml = 'Like what you see? Visit the ' +\n",
              "            '<a target=\"_blank\" href=https://colab.research.google.com/notebooks/data_table.ipynb>data table notebook</a>'\n",
              "            + ' to learn more about interactive tables.';\n",
              "          element.innerHTML = '';\n",
              "          dataTable['output_type'] = 'display_data';\n",
              "          await google.colab.output.renderOutput(dataTable, element);\n",
              "          const docLink = document.createElement('div');\n",
              "          docLink.innerHTML = docLinkHtml;\n",
              "          element.appendChild(docLink);\n",
              "        }\n",
              "      </script>\n",
              "    </div>\n",
              "  </div>\n",
              "  "
            ]
          },
          "metadata": {},
          "execution_count": 7
        }
      ],
      "source": [
        "passengers.head()"
      ]
    },
    {
      "cell_type": "markdown",
      "source": [
        "- 파생변수 생성\n",
        "  - Name에서 Title 추출"
      ],
      "metadata": {
        "id": "DdAgmD8xLEy_"
      }
    },
    {
      "cell_type": "code",
      "execution_count": null,
      "metadata": {
        "id": "XU0DTQW8Z1YG"
      },
      "outputs": [],
      "source": [
        "# Name에서 Title만 떼어내기\n",
        "for passenger in [passengers.copy()]:\n",
        "    passenger['Title'] = passenger['Name'].str.extract('([A-za-z]+)\\.', expand=False) # 알파벳 + '.'으로 된 부분 추출"
      ]
    },
    {
      "cell_type": "code",
      "execution_count": null,
      "metadata": {
        "scrolled": true,
        "id": "yTyqlITPZ1YI",
        "outputId": "66ad3cbe-93be-4f8e-c366-60fcee59feed",
        "colab": {
          "base_uri": "https://localhost:8080/"
        }
      },
      "outputs": [
        {
          "output_type": "execute_result",
          "data": {
            "text/plain": [
              "Mr          517\n",
              "Miss        182\n",
              "Mrs         125\n",
              "Master       40\n",
              "Dr            7\n",
              "Rev           6\n",
              "Mlle          2\n",
              "Major         2\n",
              "Col           2\n",
              "Countess      1\n",
              "Capt          1\n",
              "Ms            1\n",
              "Sir           1\n",
              "Lady          1\n",
              "Mme           1\n",
              "Don           1\n",
              "Jonkheer      1\n",
              "Name: Title, dtype: int64"
            ]
          },
          "metadata": {},
          "execution_count": 37
        }
      ],
      "source": [
        "passenger[\"Title\"].value_counts() # Mr, Miss, Mrs, others로 구분하는게 편리할 것으로 보임"
      ]
    },
    {
      "cell_type": "code",
      "source": [
        "title_mapping = {k: 'others' for k in set(passenger['Title'].unique()) - set(['Mr', 'Mrs', 'Miss'])}\n",
        "print(title_mapping)"
      ],
      "metadata": {
        "colab": {
          "base_uri": "https://localhost:8080/"
        },
        "id": "ak7VhblwMAuw",
        "outputId": "626ed85f-7d1e-429f-ff14-8da22b29700a"
      },
      "execution_count": null,
      "outputs": [
        {
          "output_type": "stream",
          "name": "stdout",
          "text": [
            "{'Countess': 'others', 'Don': 'others', 'Col': 'others', 'Ms': 'others', 'Rev': 'others', 'Lady': 'others', 'Jonkheer': 'others', 'Dr': 'others', 'Capt': 'others', 'Sir': 'others', 'Master': 'others', 'Major': 'others', 'Mme': 'others', 'Mlle': 'others'}\n"
          ]
        }
      ]
    },
    {
      "cell_type": "code",
      "execution_count": null,
      "metadata": {
        "id": "M0-jzSYGZ1YJ"
      },
      "outputs": [],
      "source": [
        "for passenger in [passenger.copy()]:\n",
        "    passenger['Title'] = passenger['Title'].apply(lambda x: title_mapping[x] if x not in ['Mr', 'Mrs', 'Miss'] else x)"
      ]
    },
    {
      "cell_type": "code",
      "execution_count": null,
      "metadata": {
        "scrolled": true,
        "outputId": "011c783b-ce92-4d53-b7de-679b9812d289",
        "colab": {
          "base_uri": "https://localhost:8080/"
        },
        "id": "37Fc-QsJMics"
      },
      "outputs": [
        {
          "output_type": "execute_result",
          "data": {
            "text/plain": [
              "Mr        517\n",
              "Miss      182\n",
              "Mrs       125\n",
              "others     67\n",
              "Name: Title, dtype: int64"
            ]
          },
          "metadata": {},
          "execution_count": 40
        }
      ],
      "source": [
        "passenger[\"Title\"].value_counts() # Mr, Miss, Mrs, others로 구분하는게 편리할 것으로 보임"
      ]
    },
    {
      "cell_type": "code",
      "execution_count": null,
      "metadata": {
        "id": "h45VVRvvZ1YG"
      },
      "outputs": [],
      "source": [
        "# 불필요한 Name 열 제거\n",
        "passenger.drop(['Name'], axis = 1, inplace = True)"
      ]
    },
    {
      "cell_type": "code",
      "execution_count": null,
      "metadata": {
        "id": "5cNweMeJZ1YH",
        "outputId": "90571fe9-53f1-4032-f3a6-63e1094b3b5f",
        "colab": {
          "base_uri": "https://localhost:8080/"
        }
      },
      "outputs": [
        {
          "output_type": "execute_result",
          "data": {
            "text/plain": [
              "Survived      0\n",
              "Pclass        0\n",
              "Sex           0\n",
              "Age         177\n",
              "Fare          0\n",
              "Embarked      2\n",
              "Title         0\n",
              "dtype: int64"
            ]
          },
          "metadata": {},
          "execution_count": 42
        }
      ],
      "source": [
        "passenger.isnull().sum() # 결측치 확인: (Age 177명, Embarked 2명)"
      ]
    },
    {
      "cell_type": "markdown",
      "metadata": {
        "id": "Lk62M5cSZ1YK"
      },
      "source": [
        "- 결측치 처리 : Age(177명)와 Embarked(2명)"
      ]
    },
    {
      "cell_type": "code",
      "execution_count": null,
      "metadata": {
        "id": "ciU1-ohuZ1YK"
      },
      "outputs": [],
      "source": [
        "# 'Embarked'에서 NA가 2개뿐 & 대부분(72.4%)이 'S'이므로, 결측치들도 S로 \"대체\"\n",
        "passenger = passenger.fillna({\"Embarked\": \"S\"})"
      ]
    },
    {
      "cell_type": "code",
      "execution_count": null,
      "metadata": {
        "id": "TjAJjpW3Z1YK"
      },
      "outputs": [],
      "source": [
        "# 'Age'를 각 'Title'에 대한 Age값의 중간값(median) 으로 채운다\n",
        "passenger['Age'].fillna(passenger.groupby('Title')['Age'].transform('median'), inplace=True)"
      ]
    },
    {
      "cell_type": "code",
      "execution_count": null,
      "metadata": {
        "outputId": "09bd542b-bfee-45f7-b88f-625adfea95a0",
        "colab": {
          "base_uri": "https://localhost:8080/"
        },
        "id": "QQdLLobpM56v"
      },
      "outputs": [
        {
          "output_type": "execute_result",
          "data": {
            "text/plain": [
              "Survived    0\n",
              "Pclass      0\n",
              "Sex         0\n",
              "Age         0\n",
              "Fare        0\n",
              "Embarked    0\n",
              "Title       0\n",
              "dtype: int64"
            ]
          },
          "metadata": {},
          "execution_count": 45
        }
      ],
      "source": [
        "passenger.isnull().sum() # 결측치 확인: (Age 177명, Embarked 2명)"
      ]
    },
    {
      "cell_type": "markdown",
      "source": [
        "# Step 2. EDA"
      ],
      "metadata": {
        "id": "qfoC4COJLgOW"
      }
    },
    {
      "cell_type": "code",
      "execution_count": null,
      "metadata": {
        "id": "FngCYqunZ1YL",
        "outputId": "154fae8f-99f1-4049-c916-64a558f165e4",
        "colab": {
          "base_uri": "https://localhost:8080/",
          "height": 225
        }
      },
      "outputs": [
        {
          "output_type": "display_data",
          "data": {
            "text/plain": [
              "<Figure size 915.875x216 with 1 Axes>"
            ],
            "image/png": "[encoded data removed]"
          },
          "metadata": {
            "needs_background": "light"
          }
        }
      ],
      "source": [
        "# Age(나이)에 따른 survived (0: 사망, 1: 생존)비교\n",
        "\n",
        "import matplotlib.pyplot as plt\n",
        "import seaborn as sns\n",
        "\n",
        "facet = sns.FacetGrid(passenger, hue=\"Survived\", aspect=4)\n",
        "facet.map(sns.kdeplot, 'Age', shade=True)\n",
        "facet.set(xlim=(0, passenger['Age'].max()))\n",
        "facet.add_legend()\n",
        "sns.axes_style(\"darkgrid\")\n",
        "\n",
        "plt.show()\n",
        "\n",
        "# 생존 유무를 통해 Age를 (~10대, 10대, 20대, 30대, 40~50대, 60대 이상)으로 6가지 category로 구분해보자 "
      ]
    },
    {
      "cell_type": "markdown",
      "source": [
        "- Age 변수 범주화\n",
        "  - ~10대, 10대, 20대, 30대, 4-50대, 60대 이상으로 구분"
      ],
      "metadata": {
        "id": "K0FV5xOuNBmu"
      }
    },
    {
      "cell_type": "code",
      "execution_count": null,
      "metadata": {
        "id": "kVRFC9DcZ1YL"
      },
      "outputs": [],
      "source": [
        "passenger.loc[passenger['Age'] < 10, 'Age'] = 0\n",
        "passenger.loc[(passenger['Age'] >= 10) & (passenger['Age'] < 20), 'Age'] = 1 # 10대\n",
        "passenger.loc[(passenger['Age'] >= 20) & (passenger['Age'] < 30), 'Age'] = 2 # 20대\n",
        "passenger.loc[(passenger['Age'] >= 30) & (passenger['Age'] < 40), 'Age'] = 3 # 30대\n",
        "passenger.loc[(passenger['Age'] >= 40) & (passenger['Age'] < 60), 'Age'] = 4 # 40-50대\n",
        "passenger.loc[(passenger['Age'] >= 60), 'Age'] = 5 # 60대 이상\n",
        "passenger['Age'] = passenger['Age'].apply(int)"
      ]
    },
    {
      "cell_type": "code",
      "execution_count": null,
      "metadata": {
        "scrolled": true,
        "outputId": "f1bdc6ab-0616-4823-8413-46bfbc3f3c36",
        "colab": {
          "base_uri": "https://localhost:8080/"
        },
        "id": "KPtD-ib6NWQC"
      },
      "outputs": [
        {
          "output_type": "execute_result",
          "data": {
            "text/plain": [
              "3    303\n",
              "2    256\n",
              "4    137\n",
              "1    102\n",
              "0     67\n",
              "5     26\n",
              "Name: Age, dtype: int64"
            ]
          },
          "metadata": {},
          "execution_count": 20
        }
      ],
      "source": [
        "passenger[\"Age\"].value_counts()"
      ]
    },
    {
      "cell_type": "code",
      "execution_count": null,
      "metadata": {
        "id": "jgCztRiDZ1YN",
        "outputId": "4c358731-2e5e-449d-d23c-2a2bb519db95",
        "colab": {
          "base_uri": "https://localhost:8080/",
          "height": 225
        }
      },
      "outputs": [
        {
          "output_type": "display_data",
          "data": {
            "text/plain": [
              "<Figure size 915.875x216 with 1 Axes>"
            ],
            "image/png": "[encoded data removed]"
          },
          "metadata": {
            "needs_background": "light"
          }
        }
      ],
      "source": [
        "# Fare에 따른 survived 차이\n",
        "facet2 = sns.FacetGrid(passenger, hue=\"Survived\", aspect=4)\n",
        "facet2.map(sns.kdeplot, 'Fare', shade=True)\n",
        "facet2.set(xlim=(0, passenger['Fare'].max()))\n",
        "facet2.add_legend()\n",
        "\n",
        "plt.show() # 운임요금이 낮으면 사망률이 높다."
      ]
    },
    {
      "cell_type": "code",
      "source": [
        "passenger['Fare'].describe()"
      ],
      "metadata": {
        "colab": {
          "base_uri": "https://localhost:8080/"
        },
        "id": "7zFUeELMNwcU",
        "outputId": "ce78d1d3-edda-4495-ee0b-40781d3b0d4d"
      },
      "execution_count": null,
      "outputs": [
        {
          "output_type": "execute_result",
          "data": {
            "text/plain": [
              "count    891.000000\n",
              "mean      32.204208\n",
              "std       49.693429\n",
              "min        0.000000\n",
              "25%        7.910400\n",
              "50%       14.454200\n",
              "75%       31.000000\n",
              "max      512.329200\n",
              "Name: Fare, dtype: float64"
            ]
          },
          "metadata": {},
          "execution_count": 22
        }
      ]
    },
    {
      "cell_type": "markdown",
      "source": [
        "- Fare이 일정 수준 이상인 경우 같은 값으로 통일"
      ],
      "metadata": {
        "id": "8gku-oNGPtqn"
      }
    },
    {
      "cell_type": "code",
      "source": [
        "passenger.loc[passenger['Fare'] >= 150, 'Fare'] = 150"
      ],
      "metadata": {
        "id": "DF03QqNYPxCO"
      },
      "execution_count": null,
      "outputs": []
    },
    {
      "cell_type": "code",
      "execution_count": null,
      "metadata": {
        "id": "IYO77X8-Z1YM"
      },
      "outputs": [],
      "source": [
        "# 특정 feature에 따른 survived 비교 (0: 사망, 1: 생존) 함수\n",
        "def bar_chart(feature):\n",
        "    survived = passenger[passenger['Survived']==1][feature].value_counts()\n",
        "    dead = passenger[passenger['Survived']==0][feature].value_counts()\n",
        "    df_survived = pd.DataFrame([survived,dead])\n",
        "    df_survived.index = ['Survived','Dead']\n",
        "    df_survived.plot(kind='bar',stacked=True, figsize=(10,5))"
      ]
    },
    {
      "cell_type": "code",
      "execution_count": null,
      "metadata": {
        "scrolled": true,
        "id": "x9m7HZ_OZ1YM",
        "outputId": "14aec365-044e-4d8c-c544-68890a62d8cc",
        "colab": {
          "base_uri": "https://localhost:8080/",
          "height": 446
        }
      },
      "outputs": [
        {
          "output_type": "execute_result",
          "data": {
            "text/plain": [
              "Pclass\n",
              "1    0.629630\n",
              "2    0.472826\n",
              "3    0.242363\n",
              "Name: Survived, dtype: float64"
            ]
          },
          "metadata": {},
          "execution_count": 25
        },
        {
          "output_type": "display_data",
          "data": {
            "text/plain": [
              "<Figure size 720x360 with 1 Axes>"
            ],
            "image/png": "[encoded data removed]"
          },
          "metadata": {
            "needs_background": "light"
          }
        }
      ],
      "source": [
        "# Pclass에 따른 survived 차이\n",
        "bar_chart('Pclass') # 1등석일수록 생존하고, 3등석일수록 사망 (1: 1등석, 2: 2등석, 3: 3등석)\n",
        "passenger.groupby(['Pclass'])['Survived'].agg(lambda x: x.sum()/x.count()) # survived 확률"
      ]
    },
    {
      "cell_type": "code",
      "execution_count": null,
      "metadata": {
        "id": "9XCUSHVZZ1YM",
        "outputId": "c35ed847-c897-405e-d20a-fa7f08b71ac9",
        "colab": {
          "base_uri": "https://localhost:8080/",
          "height": 427
        }
      },
      "outputs": [
        {
          "output_type": "execute_result",
          "data": {
            "text/plain": [
              "Sex\n",
              "female    0.742038\n",
              "male      0.188908\n",
              "Name: Survived, dtype: float64"
            ]
          },
          "metadata": {},
          "execution_count": 26
        },
        {
          "output_type": "display_data",
          "data": {
            "text/plain": [
              "<Figure size 720x360 with 1 Axes>"
            ],
            "image/png": "[encoded data removed]"
          },
          "metadata": {
            "needs_background": "light"
          }
        }
      ],
      "source": [
        "# Sex에 따른 survived 차이\n",
        "bar_chart('Sex') # 여성의 생존률이 높다.\n",
        "passenger.groupby(['Sex'])['Survived'].agg(lambda x: x.sum()/x.count()) # survived 확률"
      ]
    },
    {
      "cell_type": "code",
      "execution_count": null,
      "metadata": {
        "scrolled": true,
        "id": "qJhy2CbDZ1YN",
        "outputId": "0a9c248c-3ee2-4117-bb50-96ad35d37cd2",
        "colab": {
          "base_uri": "https://localhost:8080/",
          "height": 464
        }
      },
      "outputs": [
        {
          "output_type": "execute_result",
          "data": {
            "text/plain": [
              "Title\n",
              "Miss      0.697802\n",
              "Mr        0.156673\n",
              "Mrs       0.792000\n",
              "others    0.522388\n",
              "Name: Survived, dtype: float64"
            ]
          },
          "metadata": {},
          "execution_count": 27
        },
        {
          "output_type": "display_data",
          "data": {
            "text/plain": [
              "<Figure size 720x360 with 1 Axes>"
            ],
            "image/png": "[encoded data removed]"
          },
          "metadata": {
            "needs_background": "light"
          }
        }
      ],
      "source": [
        "# Title에 따른 survived 차이\n",
        "bar_chart('Title') # 남성(Mr)의 사망률이 높다.\n",
        "passenger.groupby(['Title'])['Survived'].agg(lambda x: x.sum()/x.count()) # survived 확률"
      ]
    },
    {
      "cell_type": "code",
      "execution_count": null,
      "metadata": {
        "id": "n2s54rPWZ1YM",
        "outputId": "778988ee-8cc2-421c-b3a9-567968a457df",
        "colab": {
          "base_uri": "https://localhost:8080/",
          "height": 501
        }
      },
      "outputs": [
        {
          "output_type": "execute_result",
          "data": {
            "text/plain": [
              "Age\n",
              "0    0.597015\n",
              "1    0.401961\n",
              "2    0.386719\n",
              "3    0.333333\n",
              "4    0.394161\n",
              "5    0.269231\n",
              "Name: Survived, dtype: float64"
            ]
          },
          "metadata": {},
          "execution_count": 28
        },
        {
          "output_type": "display_data",
          "data": {
            "text/plain": [
              "<Figure size 720x360 with 1 Axes>"
            ],
            "image/png": "[encoded data removed]"
          },
          "metadata": {
            "needs_background": "light"
          }
        }
      ],
      "source": [
        "# Age에 따른 survived 차이\n",
        "bar_chart('Age') # 60대 이상이 확실히 사망률이 높다.\n",
        "passenger.groupby(['Age'])['Survived'].agg(lambda x: x.sum()/x.count()) # survived 확률"
      ]
    },
    {
      "cell_type": "code",
      "execution_count": null,
      "metadata": {
        "id": "oPf9EqRtZ1YM",
        "outputId": "8cf3049c-6225-4579-b56d-12c85395b299",
        "colab": {
          "base_uri": "https://localhost:8080/",
          "height": 446
        }
      },
      "outputs": [
        {
          "output_type": "execute_result",
          "data": {
            "text/plain": [
              "Embarked\n",
              "C    0.553571\n",
              "Q    0.389610\n",
              "S    0.339009\n",
              "Name: Survived, dtype: float64"
            ]
          },
          "metadata": {},
          "execution_count": 29
        },
        {
          "output_type": "display_data",
          "data": {
            "text/plain": [
              "<Figure size 720x360 with 1 Axes>"
            ],
            "image/png": "[encoded data removed]"
          },
          "metadata": {
            "needs_background": "light"
          }
        }
      ],
      "source": [
        "# Embarked에 따른 survived 차이\n",
        "bar_chart('Embarked') # C : Cherbourg, Q : Queenstown, S : Southampton; C일 때 생존 확률이 가장 높음\n",
        "passenger.groupby(['Embarked'])['Survived'].agg(lambda x: x.sum()/x.count()) # survived 확률"
      ]
    },
    {
      "cell_type": "code",
      "execution_count": null,
      "metadata": {
        "id": "bLzzghgwEP_6"
      },
      "outputs": [],
      "source": [
        "# 유의미하다고 생각되는 column 선택. 실습에서는 임의로 4개 선택 (x = 승선권클래스 Pclass, 성별 Sex, 운임요금 Fare, y = 생존여부 Survived)\n",
        "passenger = passenger[['Pclass', 'Sex', 'Fare', 'Survived']]"
      ]
    },
    {
      "cell_type": "code",
      "execution_count": null,
      "metadata": {
        "scrolled": false,
        "id": "WJLq5JGUZ1YN"
      },
      "outputs": [],
      "source": [
        "passenger = pd.get_dummies(passenger, columns = ['Sex', 'Pclass'], drop_first=False) # 두 변수 간 correaltion =1이 되는 것을 방지"
      ]
    },
    {
      "cell_type": "code",
      "source": [
        "passenger.columns"
      ],
      "metadata": {
        "colab": {
          "base_uri": "https://localhost:8080/"
        },
        "id": "Nyn6MfX25dL1",
        "outputId": "b358e186-c135-468f-d2cb-6b14d4989ce0"
      },
      "execution_count": null,
      "outputs": [
        {
          "output_type": "execute_result",
          "data": {
            "text/plain": [
              "Index(['Fare', 'Survived', 'Sex_female', 'Sex_male', 'Pclass_1', 'Pclass_2',\n",
              "       'Pclass_3'],\n",
              "      dtype='object')"
            ]
          },
          "metadata": {},
          "execution_count": 51
        }
      ]
    },
    {
      "cell_type": "markdown",
      "source": [
        "- 다중공선성 확인\n",
        "  - 5를 초과하는 값이 없으므로 문제 없음"
      ],
      "metadata": {
        "id": "Otl_Ls8BF9qU"
      }
    },
    {
      "cell_type": "code",
      "source": [
        "# Use variance inflation factor to identify any significant multi-collinearity\n",
        "def calc_vif(df):\n",
        "    from statsmodels.stats.outliers_influence import variance_inflation_factor\n",
        "    vif = pd.DataFrame()\n",
        "    vif[\"variables\"] = df.columns\n",
        "    vif[\"VIF\"] = [variance_inflation_factor(df.values, i) for i in range(df.shape[1])]\n",
        "    return(vif)\n",
        "\n",
        "calc_vif(passenger)"
      ],
      "metadata": {
        "id": "PwqCokcwFvwE",
        "colab": {
          "base_uri": "https://localhost:8080/",
          "height": 243
        },
        "outputId": "774786c3-2b01-498b-f49f-a0493cee1b0a"
      },
      "execution_count": null,
      "outputs": [
        {
          "output_type": "stream",
          "name": "stderr",
          "text": [
            "/usr/local/lib/python3.7/dist-packages/statsmodels/tools/_testing.py:19: FutureWarning: pandas.util.testing is deprecated. Use the functions in the public API at pandas.testing instead.\n",
            "  import pandas.util.testing as tm\n"
          ]
        },
        {
          "output_type": "execute_result",
          "data": {
            "text/plain": [
              "  variables       VIF\n",
              "0      Fare  1.861677\n",
              "1  Survived  1.932878\n",
              "2  Sex_male  2.651798\n",
              "3  Pclass_2  1.479735\n",
              "4  Pclass_3  2.235163"
            ],
            "text/html": [
              "\n",
              "  <div id=\"df-8c7dd66e-9600-4818-8fac-5c08958aacf2\">\n",
              "    <div class=\"colab-df-container\">\n",
              "      <div>\n",
              "<style scoped>\n",
              "    .dataframe tbody tr th:only-of-type {\n",
              "        vertical-align: middle;\n",
              "    }\n",
              "\n",
              "    .dataframe tbody tr th {\n",
              "        vertical-align: top;\n",
              "    }\n",
              "\n",
              "    .dataframe thead th {\n",
              "        text-align: right;\n",
              "    }\n",
              "</style>\n",
              "<table border=\"1\" class=\"dataframe\">\n",
              "  <thead>\n",
              "    <tr style=\"text-align: right;\">\n",
              "      <th></th>\n",
              "      <th>variables</th>\n",
              "      <th>VIF</th>\n",
              "    </tr>\n",
              "  </thead>\n",
              "  <tbody>\n",
              "    <tr>\n",
              "      <th>0</th>\n",
              "      <td>Fare</td>\n",
              "      <td>1.861677</td>\n",
              "    </tr>\n",
              "    <tr>\n",
              "      <th>1</th>\n",
              "      <td>Survived</td>\n",
              "      <td>1.932878</td>\n",
              "    </tr>\n",
              "    <tr>\n",
              "      <th>2</th>\n",
              "      <td>Sex_male</td>\n",
              "      <td>2.651798</td>\n",
              "    </tr>\n",
              "    <tr>\n",
              "      <th>3</th>\n",
              "      <td>Pclass_2</td>\n",
              "      <td>1.479735</td>\n",
              "    </tr>\n",
              "    <tr>\n",
              "      <th>4</th>\n",
              "      <td>Pclass_3</td>\n",
              "      <td>2.235163</td>\n",
              "    </tr>\n",
              "  </tbody>\n",
              "</table>\n",
              "</div>\n",
              "      <button class=\"colab-df-convert\" onclick=\"convertToInteractive('df-8c7dd66e-9600-4818-8fac-5c08958aacf2')\"\n",
              "              title=\"Convert this dataframe to an interactive table.\"\n",
              "              style=\"display:none;\">\n",
              "        \n",
              "  <svg xmlns=\"http://www.w3.org/2000/svg\" height=\"24px\"viewBox=\"0 0 24 24\"\n",
              "       width=\"24px\">\n",
              "    <path d=\"M0 0h24v24H0V0z\" fill=\"none\"/>\n",
              "    <path d=\"M18.56 5.44l.94 2.06.94-2.06 2.06-.94-2.06-.94-.94-2.06-.94 2.06-2.06.94zm-11 1L8.5 8.5l.94-2.06 2.06-.94-2.06-.94L8.5 2.5l-.94 2.06-2.06.94zm10 10l.94 2.06.94-2.06 2.06-.94-2.06-.94-.94-2.06-.94 2.06-2.06.94z\"/><path d=\"M17.41 7.96l-1.37-1.37c-.4-.4-.92-.59-1.43-.59-.52 0-1.04.2-1.43.59L10.3 9.45l-7.72 7.72c-.78.78-.78 2.05 0 2.83L4 21.41c.39.39.9.59 1.41.59.51 0 1.02-.2 1.41-.59l7.78-7.78 2.81-2.81c.8-.78.8-2.07 0-2.86zM5.41 20L4 18.59l7.72-7.72 1.47 1.35L5.41 20z\"/>\n",
              "  </svg>\n",
              "      </button>\n",
              "      \n",
              "  <style>\n",
              "    .colab-df-container {\n",
              "      display:flex;\n",
              "      flex-wrap:wrap;\n",
              "      gap: 12px;\n",
              "    }\n",
              "\n",
              "    .colab-df-convert {\n",
              "      background-color: #E8F0FE;\n",
              "      border: none;\n",
              "      border-radius: 50%;\n",
              "      cursor: pointer;\n",
              "      display: none;\n",
              "      fill: #1967D2;\n",
              "      height: 32px;\n",
              "      padding: 0 0 0 0;\n",
              "      width: 32px;\n",
              "    }\n",
              "\n",
              "    .colab-df-convert:hover {\n",
              "      background-color: #E2EBFA;\n",
              "      box-shadow: 0px 1px 2px rgba(60, 64, 67, 0.3), 0px 1px 3px 1px rgba(60, 64, 67, 0.15);\n",
              "      fill: #174EA6;\n",
              "    }\n",
              "\n",
              "    [theme=dark] .colab-df-convert {\n",
              "      background-color: #3B4455;\n",
              "      fill: #D2E3FC;\n",
              "    }\n",
              "\n",
              "    [theme=dark] .colab-df-convert:hover {\n",
              "      background-color: #434B5C;\n",
              "      box-shadow: 0px 1px 3px 1px rgba(0, 0, 0, 0.15);\n",
              "      filter: drop-shadow(0px 1px 2px rgba(0, 0, 0, 0.3));\n",
              "      fill: #FFFFFF;\n",
              "    }\n",
              "  </style>\n",
              "\n",
              "      <script>\n",
              "        const buttonEl =\n",
              "          document.querySelector('#df-8c7dd66e-9600-4818-8fac-5c08958aacf2 button.colab-df-convert');\n",
              "        buttonEl.style.display =\n",
              "          google.colab.kernel.accessAllowed ? 'block' : 'none';\n",
              "\n",
              "        async function convertToInteractive(key) {\n",
              "          const element = document.querySelector('#df-8c7dd66e-9600-4818-8fac-5c08958aacf2');\n",
              "          const dataTable =\n",
              "            await google.colab.kernel.invokeFunction('convertToInteractive',\n",
              "                                                     [key], {});\n",
              "          if (!dataTable) return;\n",
              "\n",
              "          const docLinkHtml = 'Like what you see? Visit the ' +\n",
              "            '<a target=\"_blank\" href=https://colab.research.google.com/notebooks/data_table.ipynb>data table notebook</a>'\n",
              "            + ' to learn more about interactive tables.';\n",
              "          element.innerHTML = '';\n",
              "          dataTable['output_type'] = 'display_data';\n",
              "          await google.colab.output.renderOutput(dataTable, element);\n",
              "          const docLink = document.createElement('div');\n",
              "          docLink.innerHTML = docLinkHtml;\n",
              "          element.appendChild(docLink);\n",
              "        }\n",
              "      </script>\n",
              "    </div>\n",
              "  </div>\n",
              "  "
            ]
          },
          "metadata": {},
          "execution_count": 33
        }
      ]
    },
    {
      "cell_type": "markdown",
      "metadata": {
        "id": "MXFDmASFZ1YV"
      },
      "source": [
        "# Step 3. Logistic Regression \n",
        "- 설명이 용이함\n",
        "  - 오즈(odds; $\\frac{p}{1-p}$)의 관점에서 해석될 수 있음 (실패에 비해 성공할 확률의 비)\n",
        "  - $exp(\\beta_1)$: 나머지 변수$(x_2,\\cdots,x_k)$가 주어질 때 $x_1$이 한 단위 증가할 때마다 성공(Y)의 오즈가 몇 배 증가하는지를 나타내는 값\n",
        "- 좋은 성능을 기대하기 어려울 수도 있음\n",
        "- `statsmodel`, `sklearn`\n",
        "  - `statsmodel`: p-value 등 모델에 대한 summary 정보 제공"
      ]
    },
    {
      "cell_type": "code",
      "execution_count": null,
      "metadata": {
        "id": "Fu7-G0Z2Z1YW"
      },
      "outputs": [],
      "source": [
        "train_features = passenger[['Pclass_2', 'Pclass_3', 'Sex_male', 'Fare']]\n",
        "train_target = passenger['Survived']\n",
        "train_target = train_target.astype('int')"
      ]
    },
    {
      "cell_type": "code",
      "source": [
        "from sklearn.model_selection import train_test_split\n",
        "x_train, x_test, y_train, y_test = train_test_split(train_features, train_target, test_size = 0.2, random_state = 312)\n",
        "x_train, x_valid, y_train, y_valid = train_test_split(x_train, y_train, test_size = 0.2, random_state = 312, stratify=y_train)\n",
        "print(\"train set:\",x_train.shape)\n",
        "print(\"valid set:\",x_valid.shape)\n",
        "print(\"test set:\",x_test.shape)"
      ],
      "metadata": {
        "colab": {
          "base_uri": "https://localhost:8080/"
        },
        "id": "JUyLJJQZTtOH",
        "outputId": "80f39d25-7916-4859-c8dc-3618eb3927a6"
      },
      "execution_count": null,
      "outputs": [
        {
          "output_type": "stream",
          "name": "stdout",
          "text": [
            "train set: (569, 4)\n",
            "valid set: (143, 4)\n",
            "test set: (179, 4)\n"
          ]
        }
      ]
    },
    {
      "cell_type": "code",
      "execution_count": null,
      "metadata": {
        "scrolled": false,
        "id": "lL9O90dsZ1YH",
        "outputId": "288423ff-79d5-4e25-af3b-6519a77c1e7d",
        "colab": {
          "base_uri": "https://localhost:8080/"
        }
      },
      "outputs": [
        {
          "output_type": "execute_result",
          "data": {
            "text/plain": [
              "0    361\n",
              "1    208\n",
              "Name: Survived, dtype: int64"
            ]
          },
          "metadata": {},
          "execution_count": 27
        }
      ],
      "source": [
        "y_train.value_counts() # 0: 사망, 1: 생존"
      ]
    },
    {
      "cell_type": "code",
      "source": [
        "from imblearn.under_sampling import RandomUnderSampler\n",
        "x_train, y_train = RandomUnderSampler(random_state=312, sampling_strategy='majority').fit_resample(x_train, y_train)"
      ],
      "metadata": {
        "id": "a1bJ6gsvTWLk"
      },
      "execution_count": null,
      "outputs": []
    },
    {
      "cell_type": "code",
      "execution_count": null,
      "metadata": {
        "scrolled": false,
        "outputId": "b01ff7db-448a-4d3c-d059-06d1a1ba1662",
        "colab": {
          "base_uri": "https://localhost:8080/"
        },
        "id": "npqoV_L4UHFZ"
      },
      "outputs": [
        {
          "output_type": "execute_result",
          "data": {
            "text/plain": [
              "0    208\n",
              "1    208\n",
              "Name: Survived, dtype: int64"
            ]
          },
          "metadata": {},
          "execution_count": 29
        }
      ],
      "source": [
        "y_train.value_counts() # 0: 사망, 1: 생존"
      ]
    },
    {
      "cell_type": "code",
      "execution_count": null,
      "metadata": {
        "scrolled": true,
        "id": "LF1o5BbgZ1YX",
        "outputId": "1525900f-1023-4c81-ed5f-88b334b52dfe",
        "colab": {
          "base_uri": "https://localhost:8080/"
        }
      },
      "outputs": [
        {
          "output_type": "stream",
          "name": "stderr",
          "text": [
            "/usr/local/lib/python3.7/dist-packages/statsmodels/tsa/tsatools.py:117: FutureWarning: In a future version of pandas all arguments of concat except for the argument 'objs' will be keyword-only\n",
            "  x = pd.concat(x[::order], 1)\n"
          ]
        }
      ],
      "source": [
        "import statsmodels.api as sm\n",
        "x_train = sm.add_constant(x_train)\n",
        "x_valid = sm.add_constant(x_valid)\n",
        "x_test = sm.add_constant(x_test)"
      ]
    },
    {
      "cell_type": "code",
      "source": [
        "model_sm = sm.Logit(y_train, x_train).fit()\n",
        "# model_sm = smf.logit(\"y 변수명 ~ X변수1 + X변수2\", data=데이터프레임).fit()의 형태로도 fit 가능"
      ],
      "metadata": {
        "colab": {
          "base_uri": "https://localhost:8080/"
        },
        "id": "szBEw_YhP2lm",
        "outputId": "540fbcd8-3342-4a8a-8486-1043f1d7786b"
      },
      "execution_count": null,
      "outputs": [
        {
          "output_type": "stream",
          "name": "stdout",
          "text": [
            "Optimization terminated successfully.\n",
            "         Current function value: 0.484719\n",
            "         Iterations 6\n"
          ]
        }
      ]
    },
    {
      "cell_type": "markdown",
      "source": [
        "# Step 4. Evaluation"
      ],
      "metadata": {
        "id": "noPkaru0UiLH"
      }
    },
    {
      "cell_type": "code",
      "source": [
        "from sklearn.metrics import confusion_matrix\n",
        "import matplotlib.pyplot as plt\n",
        "import seaborn as sns\n",
        "from matplotlib import cm\n",
        "from sklearn.metrics import accuracy_score, precision_score, recall_score, f1_score"
      ],
      "metadata": {
        "id": "QJks0AnpSdlA"
      },
      "execution_count": null,
      "outputs": []
    },
    {
      "cell_type": "code",
      "execution_count": null,
      "metadata": {
        "scrolled": true,
        "id": "g2CmxYrhZ1YY"
      },
      "outputs": [],
      "source": [
        "# Probability 값\n",
        "predict_prob = model_sm.predict(x_valid)"
      ]
    },
    {
      "cell_type": "code",
      "source": [
        "y_valid.shape"
      ],
      "metadata": {
        "colab": {
          "base_uri": "https://localhost:8080/"
        },
        "id": "Bpidm4uE8bZJ",
        "outputId": "47c5f5c4-b0d2-492a-8501-3fdb2f1ae651"
      },
      "execution_count": null,
      "outputs": [
        {
          "output_type": "execute_result",
          "data": {
            "text/plain": [
              "(143,)"
            ]
          },
          "metadata": {},
          "execution_count": 34
        }
      ]
    },
    {
      "cell_type": "markdown",
      "source": [
        "- 예측값(fitted)과 잔차(residual)를 비교\n",
        "- 빨간 실선은 잔차의 추세를 나타냄\n",
        "- 모든 예측값에서 가운데 점선에 맞추어 잔차가 비슷하게 있어야 하며, 빨간 실선이 점선에서 크게 벗어난다면 예측값에 따라 잔차가 크게 달라짐 = 선형성이 없음"
      ],
      "metadata": {
        "id": "Ixf97gGW8Q6l"
      }
    },
    {
      "cell_type": "code",
      "source": [
        "'''\n",
        "코드 참고: https://www.pythonfordatascience.org/logistic-regression-python/#assumption_check\n",
        "해석 참고: https://stats.stackexchange.com/questions/1432/what-do-the-residuals-in-a-logistic-regression-mean; https://stats.oarc.ucla.edu/stata/webbooks/logistic/chapter3/lesson-3-logistic-regression-diagnostics-2/\n",
        "'''\n",
        "\n",
        "## Plotting multiple plots same figure\n",
        "fig, (axL, axR) = plt.subplots(2, figsize=(15, 15))\n",
        "plt.suptitle(\"Logistic Regression Residual Plots \\n using Seaborn Lowess line\")\n",
        "\n",
        "# Deviance Residuals\n",
        "sns.regplot(model_sm.fittedvalues, model_sm.resid_dev, ax= axL,\n",
        "            color=\"black\", scatter_kws={\"s\": 5},\n",
        "            line_kws={\"color\":\"b\", \"alpha\":1, \"lw\":2}, lowess=True)\n",
        "\n",
        "axL.set_title(\"Deviance Residuals \\n against Fitted Values\")\n",
        "axL.set_xlabel(\"Linear Predictor Values\")\n",
        "axL.set_ylabel(\"Deviance Residuals\")\n",
        "\n",
        "# Studentized Pearson Residuals\n",
        "sns.regplot(model_sm.fittedvalues, model_sm.resid_pearson, ax= axR,\n",
        "            color=\"black\", scatter_kws={\"s\": 5},\n",
        "            line_kws={\"color\":\"g\", \"alpha\":1, \"lw\":2}, lowess=True)\n",
        "\n",
        "axR.set_title(\"Studentized Pearson Residuals \\n against Fitted Values\")\n",
        "axR.set_xlabel(\"Linear Predictor Values\")\n",
        "axR.set_ylabel(\"Studentized Pearson Residuals\")\n",
        "\n",
        "plt.show()"
      ],
      "metadata": {
        "colab": {
          "base_uri": "https://localhost:8080/",
          "height": 1000
        },
        "id": "Z0nuPGSkvPIB",
        "outputId": "dbf1e7ce-af1a-4b95-8204-fecaa450eeb6"
      },
      "execution_count": null,
      "outputs": [
        {
          "output_type": "stream",
          "name": "stderr",
          "text": [
            "/usr/local/lib/python3.7/dist-packages/seaborn/_decorators.py:43: FutureWarning: Pass the following variables as keyword args: x, y. From version 0.12, the only valid positional argument will be `data`, and passing other arguments without an explicit keyword will result in an error or misinterpretation.\n",
            "  FutureWarning\n",
            "/usr/local/lib/python3.7/dist-packages/seaborn/_decorators.py:43: FutureWarning: Pass the following variables as keyword args: x, y. From version 0.12, the only valid positional argument will be `data`, and passing other arguments without an explicit keyword will result in an error or misinterpretation.\n",
            "  FutureWarning\n"
          ]
        },
        {
          "output_type": "display_data",
          "data": {
            "text/plain": [
              "<Figure size 1080x1080 with 2 Axes>"
            ],
            "image/png": "[encoded data removed]"
          },
          "metadata": {
            "needs_background": "light"
          }
        }
      ]
    },
    {
      "cell_type": "code",
      "source": [
        "def ap_log_regplot(ap_X, ap_y):\n",
        "    plt.figure(figsize=(15,10))\n",
        "    sns.regplot(ap_X, ap_y, logistic=True, color='green')\n",
        "    return None\n",
        "\n",
        "ap_log_regplot(ap_X, ap_y)\n",
        "plt.xlabel('TOEFL Score')\n",
        "plt.ylabel('Probability')\n",
        "plt.title('Logistic Regression: Probability of High Chance by TOEFL Score')\n",
        "plt.show"
      ],
      "metadata": {
        "id": "s_bPRpRXtc1Z"
      },
      "execution_count": null,
      "outputs": []
    },
    {
      "cell_type": "code",
      "source": [
        "def ap_log_regplot(ap_X, ap_y):\n",
        "    plt.figure(figsize=(15,10))\n",
        "    sns.regplot(ap_X, ap_y, logistic=True, color='green')\n",
        "    return None\n",
        "\n",
        "ap_log_regplot(x_valid['Fare'], y_valid)\n",
        "plt.xlabel('Valid Target')\n",
        "plt.ylabel('Probability')\n",
        "plt.title('Logistic Regression: Probability of Survival by Fare')\n",
        "plt.show()"
      ],
      "metadata": {
        "colab": {
          "base_uri": "https://localhost:8080/",
          "height": 501
        },
        "id": "EqN5_fw0tr0t",
        "outputId": "9a71a548-9c0d-495a-f80a-3489059af1de"
      },
      "execution_count": null,
      "outputs": [
        {
          "output_type": "stream",
          "name": "stderr",
          "text": [
            "/usr/local/lib/python3.7/dist-packages/seaborn/_decorators.py:43: FutureWarning: Pass the following variables as keyword args: x, y. From version 0.12, the only valid positional argument will be `data`, and passing other arguments without an explicit keyword will result in an error or misinterpretation.\n",
            "  FutureWarning\n"
          ]
        },
        {
          "output_type": "display_data",
          "data": {
            "text/plain": [
              "<Figure size 1080x720 with 1 Axes>"
            ],
            "image/png": "[encoded data removed]"
          },
          "metadata": {
            "needs_background": "light"
          }
        }
      ]
    },
    {
      "cell_type": "markdown",
      "source": [
        "- logit linearity 확인"
      ],
      "metadata": {
        "id": "ptYRqF7aFPMq"
      }
    },
    {
      "cell_type": "code",
      "source": [
        "import numpy as np\n",
        "# Getting log odds values\n",
        "log_odds = np.log(predict_prob / (1 - predict_prob))\n",
        "\n",
        "# Visualize predictor variable vs logit values for Age\n",
        "plt.scatter(x=x_valid['Fare'].values, y=log_odds)\n",
        "plt.xlabel(\"Fare\")\n",
        "plt.ylabel(\"Log-odds\")\n",
        "plt.show()"
      ],
      "metadata": {
        "colab": {
          "base_uri": "https://localhost:8080/",
          "height": 279
        },
        "id": "xeZ7E-dAFUM2",
        "outputId": "2d99dd98-6a05-4632-ee98-e967d7b54acd"
      },
      "execution_count": null,
      "outputs": [
        {
          "output_type": "display_data",
          "data": {
            "text/plain": [
              "<Figure size 432x288 with 1 Axes>"
            ],
            "image/png": "[encoded data removed]"
          },
          "metadata": {
            "needs_background": "light"
          }
        }
      ]
    },
    {
      "cell_type": "markdown",
      "source": [
        "- 해당 실습에서는 비선형 패턴을 보여주므로 로짓 선형성 가정이 위반됨 (polynomial terms 등 고차 다항식 항을 통합하여 변환을 수행할 수 있음. [참고](https://towardsdatascience.com/assumptions-of-logistic-regression-clearly-explained-44d85a22b290))"
      ],
      "metadata": {
        "id": "9oixK7snFh7S"
      }
    },
    {
      "cell_type": "markdown",
      "source": [
        "- cut-off 설정"
      ],
      "metadata": {
        "id": "0tpO6FmUFRm6"
      }
    },
    {
      "cell_type": "code",
      "execution_count": null,
      "metadata": {
        "id": "o-e-6l9ZZ1YT"
      },
      "outputs": [],
      "source": [
        "# 경계값cut off value에 따라 0,1 값 변환\n",
        "def change_cutoff(pred_prob_y, cutoff):\n",
        "    Y_change = pred_prob_y.copy()\n",
        "    Y_change[Y_change > cutoff] = 1\n",
        "    Y_change[Y_change <= cutoff] = 0\n",
        "    return(Y_change.astype(int))"
      ]
    },
    {
      "cell_type": "code",
      "source": [
        "print(confusion_matrix(y_valid, change_cutoff(predict_prob, 0.5)))\n",
        "print(\" Accuracy:\", accuracy_score(y_valid, change_cutoff(predict_prob, 0.5)))\n",
        "print(\"Precision:\", precision_score(y_valid, change_cutoff(predict_prob, 0.5)))\n",
        "print(\"   Recall:\", recall_score(y_valid, change_cutoff(predict_prob, 0.5)))\n",
        "print(\" F1 score:\", f1_score(y_valid, change_cutoff(predict_prob, 0.5)))"
      ],
      "metadata": {
        "colab": {
          "base_uri": "https://localhost:8080/"
        },
        "id": "QWtPXMJ2S3li",
        "outputId": "b5152e17-741a-4b42-c44d-51f1daad2b91"
      },
      "execution_count": null,
      "outputs": [
        {
          "output_type": "stream",
          "name": "stdout",
          "text": [
            "[[60 31]\n",
            " [10 42]]\n",
            " Accuracy: 0.7132867132867133\n",
            "Precision: 0.5753424657534246\n",
            "   Recall: 0.8076923076923077\n",
            " F1 score: 0.672\n"
          ]
        }
      ]
    },
    {
      "cell_type": "code",
      "source": [
        "print(confusion_matrix(y_valid, change_cutoff(predict_prob, 0.7)))\n",
        "print(\" Accuracy:\", accuracy_score(y_valid, change_cutoff(predict_prob, 0.7)))\n",
        "print(\"Precision:\", precision_score(y_valid, change_cutoff(predict_prob, 0.7)))\n",
        "print(\"   Recall:\", recall_score(y_valid, change_cutoff(predict_prob, 0.7)))\n",
        "print(\" F1 score:\", f1_score(y_valid, change_cutoff(predict_prob, 0.7)))"
      ],
      "metadata": {
        "colab": {
          "base_uri": "https://localhost:8080/"
        },
        "id": "o7iOLP1ZS_fg",
        "outputId": "72d4dc9b-1925-408a-fe39-afdc293ba2f0"
      },
      "execution_count": null,
      "outputs": [
        {
          "output_type": "stream",
          "name": "stdout",
          "text": [
            "[[90  1]\n",
            " [22 30]]\n",
            " Accuracy: 0.8391608391608392\n",
            "Precision: 0.967741935483871\n",
            "   Recall: 0.5769230769230769\n",
            " F1 score: 0.7228915662650601\n"
          ]
        }
      ]
    },
    {
      "cell_type": "markdown",
      "source": [
        "- ROC curve: 다양한 threshold에 대한 이진분류기의 성능을 한번에 표시한 그래프\n",
        "  - TPR: true positive rate\n",
        "  - FPR: false positive rate\n",
        "  - 좌측 상단으로 붙어있는 경우 좋은 분류기\n",
        "- [참고](https://angeloyeo.github.io/2020/08/05/ROC.html)"
      ],
      "metadata": {
        "id": "h6dD1iIfQLit"
      }
    },
    {
      "cell_type": "code",
      "execution_count": null,
      "metadata": {
        "scrolled": true,
        "id": "ZwNg9XMlZ1YU",
        "outputId": "088565b9-9097-4387-ddbe-5b1ad177aeda",
        "colab": {
          "base_uri": "https://localhost:8080/",
          "height": 283
        }
      },
      "outputs": [
        {
          "output_type": "display_data",
          "data": {
            "text/plain": [
              "<Figure size 432x288 with 1 Axes>"
            ],
            "image/png": "[encoded data removed]"
          },
          "metadata": {
            "needs_background": "light"
          }
        }
      ],
      "source": [
        "from sklearn.metrics import roc_curve\n",
        "\n",
        "def roc_curve_plot(y_test , pred_proba_c1):\n",
        "    fprs , tprs , thresholds = roc_curve(y_test ,pred_proba_c1) # 임곗값에 따른 FPR, TPR 값을 반환 받음. \n",
        "\n",
        "    plt.plot(fprs , tprs, label='ROC')\n",
        "    plt.plot([0, 1], [0, 1], 'k--', label='Random')\n",
        "  \n",
        "    start, end = plt.xlim()\n",
        "    plt.xticks(np.round(np.arange(start, end, 0.1),2))\n",
        "    plt.xlim(0,1)\n",
        "    plt.ylim(0,1)\n",
        "    plt.xlabel('FPR( 1 - Sensitivity )')\n",
        "    plt.ylabel('TPR( Recall )')\n",
        "    plt.legend()\n",
        "    plt.show()\n",
        "  \n",
        "roc_curve_plot(y_valid, predict_prob)"
      ]
    },
    {
      "cell_type": "markdown",
      "metadata": {
        "id": "Kqf1hvOLZ1YU"
      },
      "source": [
        "# Step 5. Interpretation\n",
        "- [Deviance](http://contents2.kocw.or.kr/KOCW/document/2017/chungbuk/najonghwa/5.pdf)\n",
        "  - saturated model: 연구모형이 해당 데이터에 대해 완전히 적합된 모형으로, 추정해야할 모수가 전체 변수의 수와 동일\n",
        "  - null model: 절편항만 가지고 X 변수 어떤것도 모델에 반영되지 않는 경우(Y=b_0)로, 추정할 모수가 1개\n",
        "  - fitted model: p개의 모수+절편항을 포함하는 모형이므로 추정할 모수가 p+1개\n",
        "  - **residual deviance**: 2{LL(saturated model) - LL(fitted model)}, df=n-(p+1)\n",
        "  - **null deviance**: 2{LL(saturated model) - LL(null model)}, df=n-1\n",
        "  - 두 deviance는 값이 작을수록 해당 모형이 자료를 잘 적합함을 의미\n",
        "  - 영모형과 제안모형 간의 비교(검정)는 (Null Deviance - Proposed Deviance)가 근사적으로 자유도가 (n-(p+1))-(n-1)=p인 카이제곱분포를 따른다는 사실에 기초\n",
        "  - 이는 [`glm()`](https://www.statsmodels.org/dev/generated/statsmodels.genmod.generalized_linear_model.GLM.html)에서 활용 가능"
      ]
    },
    {
      "cell_type": "code",
      "execution_count": null,
      "metadata": {
        "id": "a7lBad_vZ1YX",
        "outputId": "5ca602bc-3b1e-407f-9811-c8775711b6ad",
        "colab": {
          "base_uri": "https://localhost:8080/",
          "height": 316
        }
      },
      "outputs": [
        {
          "output_type": "execute_result",
          "data": {
            "text/plain": [
              "<class 'statsmodels.iolib.summary.Summary'>\n",
              "\"\"\"\n",
              "                           Logit Regression Results                           \n",
              "==============================================================================\n",
              "Dep. Variable:               Survived   No. Observations:                  416\n",
              "Model:                          Logit   Df Residuals:                      411\n",
              "Method:                           MLE   Df Model:                            4\n",
              "Date:                Fri, 15 Apr 2022   Pseudo R-squ.:                  0.3007\n",
              "Time:                        12:47:21   Log-Likelihood:                -201.64\n",
              "converged:                       True   LL-Null:                       -288.35\n",
              "Covariance Type:            nonrobust   LLR p-value:                 1.937e-36\n",
              "==============================================================================\n",
              "                 coef    std err          z      P>|z|      [0.025      0.975]\n",
              "------------------------------------------------------------------------------\n",
              "const          2.6136      0.518      5.047      0.000       1.599       3.629\n",
              "Pclass_2      -0.6780      0.445     -1.522      0.128      -1.551       0.195\n",
              "Pclass_3      -1.8453      0.442     -4.179      0.000      -2.711      -0.980\n",
              "Sex_male      -2.5684      0.262     -9.806      0.000      -3.082      -2.055\n",
              "Fare          -0.0004      0.006     -0.074      0.941      -0.011       0.010\n",
              "==============================================================================\n",
              "\"\"\""
            ],
            "text/html": [
              "<table class=\"simpletable\">\n",
              "<caption>Logit Regression Results</caption>\n",
              "<tr>\n",
              "  <th>Dep. Variable:</th>       <td>Survived</td>     <th>  No. Observations:  </th>  <td>   416</td>  \n",
              "</tr>\n",
              "<tr>\n",
              "  <th>Model:</th>                 <td>Logit</td>      <th>  Df Residuals:      </th>  <td>   411</td>  \n",
              "</tr>\n",
              "<tr>\n",
              "  <th>Method:</th>                 <td>MLE</td>       <th>  Df Model:          </th>  <td>     4</td>  \n",
              "</tr>\n",
              "<tr>\n",
              "  <th>Date:</th>            <td>Fri, 15 Apr 2022</td> <th>  Pseudo R-squ.:     </th>  <td>0.3007</td>  \n",
              "</tr>\n",
              "<tr>\n",
              "  <th>Time:</th>                <td>12:47:21</td>     <th>  Log-Likelihood:    </th> <td> -201.64</td> \n",
              "</tr>\n",
              "<tr>\n",
              "  <th>converged:</th>             <td>True</td>       <th>  LL-Null:           </th> <td> -288.35</td> \n",
              "</tr>\n",
              "<tr>\n",
              "  <th>Covariance Type:</th>     <td>nonrobust</td>    <th>  LLR p-value:       </th> <td>1.937e-36</td>\n",
              "</tr>\n",
              "</table>\n",
              "<table class=\"simpletable\">\n",
              "<tr>\n",
              "      <td></td>        <th>coef</th>     <th>std err</th>      <th>z</th>      <th>P>|z|</th>  <th>[0.025</th>    <th>0.975]</th>  \n",
              "</tr>\n",
              "<tr>\n",
              "  <th>const</th>    <td>    2.6136</td> <td>    0.518</td> <td>    5.047</td> <td> 0.000</td> <td>    1.599</td> <td>    3.629</td>\n",
              "</tr>\n",
              "<tr>\n",
              "  <th>Pclass_2</th> <td>   -0.6780</td> <td>    0.445</td> <td>   -1.522</td> <td> 0.128</td> <td>   -1.551</td> <td>    0.195</td>\n",
              "</tr>\n",
              "<tr>\n",
              "  <th>Pclass_3</th> <td>   -1.8453</td> <td>    0.442</td> <td>   -4.179</td> <td> 0.000</td> <td>   -2.711</td> <td>   -0.980</td>\n",
              "</tr>\n",
              "<tr>\n",
              "  <th>Sex_male</th> <td>   -2.5684</td> <td>    0.262</td> <td>   -9.806</td> <td> 0.000</td> <td>   -3.082</td> <td>   -2.055</td>\n",
              "</tr>\n",
              "<tr>\n",
              "  <th>Fare</th>     <td>   -0.0004</td> <td>    0.006</td> <td>   -0.074</td> <td> 0.941</td> <td>   -0.011</td> <td>    0.010</td>\n",
              "</tr>\n",
              "</table>"
            ]
          },
          "metadata": {},
          "execution_count": 87
        }
      ],
      "source": [
        "model_sm.summary()"
      ]
    },
    {
      "cell_type": "code",
      "execution_count": null,
      "metadata": {
        "scrolled": false,
        "id": "_1q4d3akZ1YX",
        "outputId": "4e3ab4d3-a24b-41e5-888a-6c5bf409c4be",
        "colab": {
          "base_uri": "https://localhost:8080/",
          "height": 320
        }
      },
      "outputs": [
        {
          "output_type": "execute_result",
          "data": {
            "text/plain": [
              "<class 'statsmodels.iolib.summary2.Summary'>\n",
              "\"\"\"\n",
              "                         Results: Logit\n",
              "=================================================================\n",
              "Model:              Logit            Pseudo R-squared: 0.325     \n",
              "Dependent Variable: Survived         AIC:              496.8037  \n",
              "Date:               2022-04-15 12:38 BIC:              518.0728  \n",
              "No. Observations:   520              Log-Likelihood:   -243.40   \n",
              "Df Model:           4                LL-Null:          -360.44   \n",
              "Df Residuals:       515              LLR p-value:      1.7558e-49\n",
              "Converged:          1.0000           Scale:            1.0000    \n",
              "No. Iterations:     6.0000                                       \n",
              "------------------------------------------------------------------\n",
              "              Coef.   Std.Err.     z      P>|z|    [0.025   0.975]\n",
              "------------------------------------------------------------------\n",
              "const         2.3366    0.4599    5.0812  0.0000   1.4353   3.2379\n",
              "Pclass_2     -0.5752    0.3830   -1.5019  0.1331  -1.3257   0.1754\n",
              "Pclass_3     -1.6881    0.3847   -4.3876  0.0000  -2.4422  -0.9340\n",
              "Sex_male     -2.5854    0.2420  -10.6820  0.0000  -3.0598  -2.1110\n",
              "Fare          0.0073    0.0057    1.2761  0.2019  -0.0039   0.0185\n",
              "=================================================================\n",
              "\n",
              "\"\"\""
            ],
            "text/html": [
              "<table class=\"simpletable\">\n",
              "<tr>\n",
              "        <td>Model:</td>              <td>Logit</td>      <td>Pseudo R-squared:</td>    <td>0.325</td>  \n",
              "</tr>\n",
              "<tr>\n",
              "  <td>Dependent Variable:</td>     <td>Survived</td>           <td>AIC:</td>         <td>496.8037</td> \n",
              "</tr>\n",
              "<tr>\n",
              "         <td>Date:</td>        <td>2022-04-15 12:38</td>       <td>BIC:</td>         <td>518.0728</td> \n",
              "</tr>\n",
              "<tr>\n",
              "   <td>No. Observations:</td>         <td>520</td>        <td>Log-Likelihood:</td>    <td>-243.40</td> \n",
              "</tr>\n",
              "<tr>\n",
              "       <td>Df Model:</td>              <td>4</td>            <td>LL-Null:</td>        <td>-360.44</td> \n",
              "</tr>\n",
              "<tr>\n",
              "     <td>Df Residuals:</td>           <td>515</td>         <td>LLR p-value:</td>    <td>1.7558e-49</td>\n",
              "</tr>\n",
              "<tr>\n",
              "      <td>Converged:</td>           <td>1.0000</td>           <td>Scale:</td>         <td>1.0000</td>  \n",
              "</tr>\n",
              "<tr>\n",
              "    <td>No. Iterations:</td>        <td>6.0000</td>              <td></td>               <td></td>     \n",
              "</tr>\n",
              "</table>\n",
              "<table class=\"simpletable\">\n",
              "<tr>\n",
              "      <td></td>      <th>Coef.</th>  <th>Std.Err.</th>     <th>z</th>     <th>P>|z|</th> <th>[0.025</th>  <th>0.975]</th> \n",
              "</tr>\n",
              "<tr>\n",
              "  <th>const</th>    <td>2.3366</td>   <td>0.4599</td>   <td>5.0812</td>  <td>0.0000</td> <td>1.4353</td>  <td>3.2379</td> \n",
              "</tr>\n",
              "<tr>\n",
              "  <th>Pclass_2</th> <td>-0.5752</td>  <td>0.3830</td>   <td>-1.5019</td> <td>0.1331</td> <td>-1.3257</td> <td>0.1754</td> \n",
              "</tr>\n",
              "<tr>\n",
              "  <th>Pclass_3</th> <td>-1.6881</td>  <td>0.3847</td>   <td>-4.3876</td> <td>0.0000</td> <td>-2.4422</td> <td>-0.9340</td>\n",
              "</tr>\n",
              "<tr>\n",
              "  <th>Sex_male</th> <td>-2.5854</td>  <td>0.2420</td>  <td>-10.6820</td> <td>0.0000</td> <td>-3.0598</td> <td>-2.1110</td>\n",
              "</tr>\n",
              "<tr>\n",
              "  <th>Fare</th>     <td>0.0073</td>   <td>0.0057</td>   <td>1.2761</td>  <td>0.2019</td> <td>-0.0039</td> <td>0.0185</td> \n",
              "</tr>\n",
              "</table>"
            ]
          },
          "metadata": {},
          "execution_count": 40
        }
      ],
      "source": [
        "model_sm.summary2()"
      ]
    },
    {
      "cell_type": "markdown",
      "source": [
        "- reference: (Pclass = 1, Sex = Female)\n",
        "- Logit(Survived = 1) = 2.3366 - 0.5752 \\* Pclass_2 - 1.6881 \\*Pclass_3 - 2.5854 \\* Sex_Male + 0.0073 \\* Fare\n",
        "- p-value가 유의수준 0.05 이하인 변수: Pclass_3, Sex_male\n",
        "\n",
        "- 이 외 기타 항목들에 대한 해석 [참고1](https://investigate.ai/regression/evaluating-logistic-regressions/), [참고2](https://stackoverflow.com/questions/46700258/python-how-to-interpret-the-result-of-logistic-regression-by-sm-logit)"
      ],
      "metadata": {
        "id": "jlI_BN3V6Ok4"
      }
    },
    {
      "cell_type": "code",
      "execution_count": null,
      "metadata": {
        "id": "ds1E5QwJZ1YX",
        "outputId": "dc75d958-4123-4b30-caaa-9f282376a5aa",
        "colab": {
          "base_uri": "https://localhost:8080/"
        }
      },
      "outputs": [
        {
          "output_type": "execute_result",
          "data": {
            "text/plain": [
              "const       10.346151\n",
              "Pclass_2     0.562613\n",
              "Pclass_3     0.184869\n",
              "Sex_male     0.075365\n",
              "Fare         1.007319\n",
              "dtype: float64"
            ]
          },
          "metadata": {},
          "execution_count": 41
        }
      ],
      "source": [
        "# Odds ratio\n",
        "import numpy as np\n",
        "np.exp(model_sm.params) # reference: (Pclass = 1, Sex = Female)"
      ]
    },
    {
      "cell_type": "markdown",
      "source": [
        "- Pclass_3을 이용하는 승객은 Pclass_1을 이용하는 승객보다 odds가 0.184배 증가한다. (즉, odds가 약 81.6% 감소)\n",
        "- 성별이 male인 승객은 femalie인 승객보다 odds가 0.075배 증가한다. (즉, odds가 약 92.5% 감소)"
      ],
      "metadata": {
        "id": "0Z8QF6KeRy0P"
      }
    },
    {
      "cell_type": "markdown",
      "metadata": {
        "id": "Yg0NeEx-Z1YV"
      },
      "source": [
        "# Appendices"
      ]
    },
    {
      "cell_type": "markdown",
      "source": [
        "## Sklearn"
      ],
      "metadata": {
        "id": "k5giIgw6W6bV"
      }
    },
    {
      "cell_type": "code",
      "source": [
        "from sklearn.linear_model import LogisticRegression\n",
        "model = LogisticRegression(C=1e9)\n",
        "model.fit(x_train, y_train)"
      ],
      "metadata": {
        "colab": {
          "base_uri": "https://localhost:8080/"
        },
        "id": "3et1A7ChXB9Y",
        "outputId": "ef8d4e5a-9802-45ee-9da9-4a64ab476c26"
      },
      "execution_count": null,
      "outputs": [
        {
          "output_type": "execute_result",
          "data": {
            "text/plain": [
              "LogisticRegression(C=1000000000.0)"
            ]
          },
          "metadata": {},
          "execution_count": 88
        }
      ]
    },
    {
      "cell_type": "code",
      "execution_count": null,
      "metadata": {
        "outputId": "6b13b8cb-8f93-4bc2-fe9a-c2a702abf4d7",
        "colab": {
          "base_uri": "https://localhost:8080/"
        },
        "id": "ZHEo3ThCsWZr"
      },
      "outputs": [
        {
          "output_type": "stream",
          "name": "stdout",
          "text": [
            "[1.30682024]\n",
            "[[ 1.30682024e+00 -6.77969790e-01 -1.84533864e+00 -2.56844346e+00\n",
            "  -4.11293881e-04]]\n"
          ]
        }
      ],
      "source": [
        "print(model.intercept_) \n",
        "print(model.coef_)\n",
        "\n",
        "## reference: (Pclass=1, Sex=Female)"
      ]
    },
    {
      "cell_type": "code",
      "execution_count": null,
      "metadata": {
        "scrolled": false,
        "id": "JiV7i6NFZ1YW",
        "outputId": "3feeee0f-2465-49b5-ceae-dd2636b1031f",
        "colab": {
          "base_uri": "https://localhost:8080/"
        }
      },
      "outputs": [
        {
          "output_type": "stream",
          "name": "stdout",
          "text": [
            "[[0.63844786 0.36155214]\n",
            " [0.84291015 0.15708985]\n",
            " [0.84330705 0.15669295]\n",
            " [0.52363976 0.47636024]\n",
            " [0.84291015 0.15708985]]\n"
          ]
        }
      ],
      "source": [
        "print(model.predict_proba(x_train)[:5]) # 0=사망, 1=생존 : 각 관측치별..[0(사망)일 확률, 1(생존)일 확률]"
      ]
    },
    {
      "cell_type": "markdown",
      "source": [
        "## K-fold CV\n",
        "- hold-out: train/validation/test set을 split\n",
        "\n",
        "- cross validation: 데이터셋을 k개의 subset으로 구분 후 k-1개의 subset을 train을 위해, 나머지 하나의 subset을 test를 위해 사용\n",
        "  - 일반적으로 K=10을 사용하나, 데이터셋이 클 경우 계산 속도를 고려하여 k의 값을 줄이기도 함\n",
        "  - 데이터셋이 많지 않을 경우 여러 번 샘플링하여 검증하는 과정을 거칠 수 있음\n",
        "- cross validation을 사용할 경우 imbalanced data에 민감할 수 있음\n",
        "  - class가 유사한 경우 `from sklearn.model_selection import KFold`을 통해 일반적인 kfold 사용\n",
        "  - imbalanced인 경우 `from sklearn.model_selection import StratifiedKFold`을 통해 class의 수를 고려하여 kfold cv를 진행\n",
        "\n",
        "- 여기서부터는 `sklearn`의 `LogitRegression` 활용"
      ],
      "metadata": {
        "id": "suBVjH8FRnRO"
      }
    },
    {
      "cell_type": "markdown",
      "source": [
        "![image.png](data:image/png;base64,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)"
      ],
      "metadata": {
        "id": "p6osmxApnCMt"
      }
    },
    {
      "cell_type": "code",
      "execution_count": null,
      "metadata": {
        "id": "kjQZjrBWZ1YY"
      },
      "outputs": [],
      "source": [
        "from sklearn.model_selection import cross_validate\n",
        "# from sklearn.model_selection import KFold\n",
        "from sklearn.model_selection import StratifiedKFold\n",
        "from sklearn.linear_model import LogisticRegression\n",
        "import numpy as np\n",
        "\n",
        "# kfold = KFold(n_splits=10, shuffle=True, random_state=312) # K-Fold 객체 생성\n",
        "kfold = StratifiedKFold(n_splits=10, shuffle=True, random_state=312) # stratified K-Fold 객체 생성\n",
        "\n",
        "# sklearn 관련 (cross-validation, measure) 추가 학습 링크:\n",
        "# https://scikit-learn.org/stable/modules/cross_validation.html\n",
        "# https://scikit-learn.org/stable/modules/generated/sklearn.model_selection.cross_validate.html#sklearn.model_selection.cross_validate\n",
        "# https://scikit-learn.org/stable/modules/generated/sklearn.model_selection.cross_val_score.html#sklearn.model_selection.cross_val_score"
      ]
    },
    {
      "cell_type": "code",
      "source": [
        "'''\n",
        "https://scikit-learn.org/stable/modules/generated/sklearn.linear_model.LogisticRegression.html\n",
        "penalty: 'l1', 'l2', 'elasticnet', 'none' (default: l2)\n",
        "fit_intercept: True, False (default: True)\n",
        "'''\n",
        "from sklearn.linear_model import LogisticRegression\n",
        "model_cv = LogisticRegression()"
      ],
      "metadata": {
        "id": "whMESUhGaJ3d"
      },
      "execution_count": null,
      "outputs": []
    },
    {
      "cell_type": "code",
      "execution_count": null,
      "metadata": {
        "id": "rgalHjPbZ1YY",
        "outputId": "72d984a1-a614-4d9a-da87-12ac301377a4",
        "colab": {
          "base_uri": "https://localhost:8080/"
        }
      },
      "outputs": [
        {
          "output_type": "execute_result",
          "data": {
            "text/plain": [
              "{'fit_time': 0.013747453689575195,\n",
              " 'score_time': 0.006105589866638184,\n",
              " 'test_accuracy': 0.7845443196004994,\n",
              " 'test_f1': 0.7089483170254843,\n",
              " 'test_precision': 0.7414851849012832,\n",
              " 'test_recall': 0.684453781512605,\n",
              " 'test_roc_auc': 0.8393844891491951}"
            ]
          },
          "metadata": {},
          "execution_count": 80
        }
      ],
      "source": [
        "# Stratified k-fold CV\n",
        "# Accuracy 기준: cross_val_score(model, featrues, target, cross validation)\n",
        "scores = cross_validate(model_cv, train_features, train_target, cv=kfold, # (model, featrues, target, cross validation)\n",
        "                        scoring=['accuracy', 'recall', 'precision', 'f1', 'roc_auc']) \n",
        "                        # precision/recall macro/micro : https://datascience.stackexchange.com/questions/15989/micro-average-vs-macro-average-performance-in-a-multiclass-classification-settin\n",
        "{k: np.mean(v) for k, v in scores.items()}"
      ]
    },
    {
      "cell_type": "code",
      "execution_count": null,
      "metadata": {
        "id": "gCAmNw99Z1YW"
      },
      "outputs": [],
      "source": [
        "from sklearn.model_selection import cross_val_predict\n",
        "y_pred = cross_val_predict(model_cv, train_features, train_target, cv=kfold)"
      ]
    },
    {
      "cell_type": "markdown",
      "source": [
        "## Types of Logistic Regression \n",
        "- target variable에 따라 3가지로 구분할 수 있음\n",
        "1. **Binary Logistic Regression**\n",
        "  - target variable: 두 개의 categories\n",
        "  - e.g., yes or no, good or bad, true or false, spam or no spam and pass or fail.\n",
        "\n",
        "2. Multinomial Logistic Regression\n",
        "  - target variable: 세 개 이상의 nominal (순서가 없는) categories\n",
        "  - e.g., apple, mango, orange and banana.\n",
        "\n",
        "3. Ordinal Logistic Regression\n",
        "  - target variable: 세 개 이상의 ordinal categories\n",
        "  - e.g., poor, average, good and excellent."
      ],
      "metadata": {
        "id": "YS362pIfNI2y"
      }
    }
  ],
  "metadata": {
    "kernelspec": {
      "display_name": "Python 3",
      "language": "python",
      "name": "python3"
    },
    "language_info": {
      "codemirror_mode": {
        "name": "ipython",
        "version": 3
      },
      "file_extension": ".py",
      "mimetype": "text/x-python",
      "name": "python",
      "nbconvert_exporter": "python",
      "pygments_lexer": "ipython3",
      "version": "3.8.8"
    },
    "colab": {
      "name": "6_LogisticRegression.ipynb",
      "provenance": [],
      "collapsed_sections": [
        "k5giIgw6W6bV"
      ],
      "include_colab_link": true
    }
  },
  "nbformat": 4,
  "nbformat_minor": 0
}